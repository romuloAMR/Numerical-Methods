{
 "cells": [
  {
   "cell_type": "markdown",
   "id": "5cf3ebf0",
   "metadata": {},
   "source": [
    "# Zero of functions:\n",
    "\n",
    "Search for the zeros of any function using numerical methods 💻"
   ]
  },
  {
   "cell_type": "markdown",
   "id": "f7c5e3b6",
   "metadata": {},
   "source": [
    "## All imports\n",
    "\n",
    "Import the dependencies required for the project"
   ]
  },
  {
   "cell_type": "code",
   "execution_count": 1,
   "id": "a39ad49e",
   "metadata": {},
   "outputs": [],
   "source": [
    "import numpy as np\n",
    "import pandas as pd\n",
    "import plotly.express as px"
   ]
  },
  {
   "cell_type": "markdown",
   "id": "7e936009",
   "metadata": {},
   "source": [
    "## Overall parameters\n",
    "\n",
    "Pre-defined parameters for analysis"
   ]
  },
  {
   "cell_type": "code",
   "execution_count": 6,
   "id": "dcd15d5d",
   "metadata": {},
   "outputs": [],
   "source": [
    "f = lambda x: x**2 + x - 6\n",
    "range = np.arange(1.0, 3.4, 0.4) # [1.0; 3.0] and step = 0.4\n",
    "epsilon = 10**(-8)"
   ]
  },
  {
   "cell_type": "code",
   "execution_count": null,
   "id": "f1171032",
   "metadata": {},
   "outputs": [],
   "source": []
  }
 ],
 "metadata": {
  "kernelspec": {
   "display_name": ".venv",
   "language": "python",
   "name": "python3"
  },
  "language_info": {
   "codemirror_mode": {
    "name": "ipython",
    "version": 3
   },
   "file_extension": ".py",
   "mimetype": "text/x-python",
   "name": "python",
   "nbconvert_exporter": "python",
   "pygments_lexer": "ipython3",
   "version": "3.11.12"
  }
 },
 "nbformat": 4,
 "nbformat_minor": 5
}
