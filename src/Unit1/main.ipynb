{
 "cells": [
  {
   "cell_type": "markdown",
   "id": "5cf3ebf0",
   "metadata": {},
   "source": [
    "# Zero of functions:\n",
    "\n",
    "Search for the zeros of any function using numerical methods 💻"
   ]
  },
  {
   "cell_type": "code",
   "execution_count": 1,
   "id": "a39ad49e",
   "metadata": {},
   "outputs": [],
   "source": [
    "import numpy\n",
    "import pandas\n",
    "import plotly"
   ]
  },
  {
   "cell_type": "code",
   "execution_count": null,
   "id": "dcd15d5d",
   "metadata": {},
   "outputs": [],
   "source": []
  }
 ],
 "metadata": {
  "kernelspec": {
   "display_name": ".venv",
   "language": "python",
   "name": "python3"
  },
  "language_info": {
   "codemirror_mode": {
    "name": "ipython",
    "version": 3
   },
   "file_extension": ".py",
   "mimetype": "text/x-python",
   "name": "python",
   "nbconvert_exporter": "python",
   "pygments_lexer": "ipython3",
   "version": "3.11.12"
  }
 },
 "nbformat": 4,
 "nbformat_minor": 5
}
